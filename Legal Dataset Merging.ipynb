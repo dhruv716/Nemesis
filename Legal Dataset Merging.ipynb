{
 "cells": [
  {
   "cell_type": "code",
   "execution_count": 1,
   "id": "a75dbdff",
   "metadata": {
    "_cell_guid": "b1076dfc-b9ad-4769-8c92-a6c4dae69d19",
    "_uuid": "8f2839f25d086af736a60e9eeb907d3b93b6e0e5",
    "execution": {
     "iopub.execute_input": "2025-01-03T04:49:52.886593Z",
     "iopub.status.busy": "2025-01-03T04:49:52.886273Z",
     "iopub.status.idle": "2025-01-03T04:49:53.499719Z",
     "shell.execute_reply": "2025-01-03T04:49:53.499033Z"
    },
    "papermill": {
     "duration": 0.619549,
     "end_time": "2025-01-03T04:49:53.501280",
     "exception": false,
     "start_time": "2025-01-03T04:49:52.881731",
     "status": "completed"
    },
    "tags": []
   },
   "outputs": [],
   "source": [
    "import pandas as pd\n",
    "import numpy as np\n",
    "import re"
   ]
  },
  {
   "cell_type": "code",
   "execution_count": 2,
   "id": "88b48e38",
   "metadata": {
    "execution": {
     "iopub.execute_input": "2025-01-03T04:49:53.508202Z",
     "iopub.status.busy": "2025-01-03T04:49:53.507832Z",
     "iopub.status.idle": "2025-01-03T04:49:56.439434Z",
     "shell.execute_reply": "2025-01-03T04:49:56.438433Z"
    },
    "papermill": {
     "duration": 2.936517,
     "end_time": "2025-01-03T04:49:56.441007",
     "exception": false,
     "start_time": "2025-01-03T04:49:53.504490",
     "status": "completed"
    },
    "tags": []
   },
   "outputs": [],
   "source": [
    "df1 = pd.read_parquet(\"hf://datasets/Sahi19/IndianLawComplete/formatted_dataset.parquet\")"
   ]
  },
  {
   "cell_type": "code",
   "execution_count": 3,
   "id": "49e40406",
   "metadata": {
    "execution": {
     "iopub.execute_input": "2025-01-03T04:49:56.447809Z",
     "iopub.status.busy": "2025-01-03T04:49:56.447543Z",
     "iopub.status.idle": "2025-01-03T04:49:56.451684Z",
     "shell.execute_reply": "2025-01-03T04:49:56.451020Z"
    },
    "papermill": {
     "duration": 0.008733,
     "end_time": "2025-01-03T04:49:56.452873",
     "exception": false,
     "start_time": "2025-01-03T04:49:56.444140",
     "status": "completed"
    },
    "tags": []
   },
   "outputs": [],
   "source": [
    "def split_text(row):\n",
    "    match = re.search(r\"\\[INST\\](.*?)\\[/INST\\](.*)\", row)\n",
    "    if match:\n",
    "        question = match.group(1).strip()\n",
    "        answer = match.group(2).strip()\n",
    "        return question, answer\n",
    "    return None, None"
   ]
  },
  {
   "cell_type": "code",
   "execution_count": 4,
   "id": "efa4be76",
   "metadata": {
    "execution": {
     "iopub.execute_input": "2025-01-03T04:49:56.459283Z",
     "iopub.status.busy": "2025-01-03T04:49:56.459018Z",
     "iopub.status.idle": "2025-01-03T04:49:57.912955Z",
     "shell.execute_reply": "2025-01-03T04:49:57.912072Z"
    },
    "papermill": {
     "duration": 1.45871,
     "end_time": "2025-01-03T04:49:57.914493",
     "exception": false,
     "start_time": "2025-01-03T04:49:56.455783",
     "status": "completed"
    },
    "tags": []
   },
   "outputs": [
    {
     "data": {
      "text/html": [
       "<div>\n",
       "<style scoped>\n",
       "    .dataframe tbody tr th:only-of-type {\n",
       "        vertical-align: middle;\n",
       "    }\n",
       "\n",
       "    .dataframe tbody tr th {\n",
       "        vertical-align: top;\n",
       "    }\n",
       "\n",
       "    .dataframe thead th {\n",
       "        text-align: right;\n",
       "    }\n",
       "</style>\n",
       "<table border=\"1\" class=\"dataframe\">\n",
       "  <thead>\n",
       "    <tr style=\"text-align: right;\">\n",
       "      <th></th>\n",
       "      <th>question</th>\n",
       "      <th>answer</th>\n",
       "    </tr>\n",
       "  </thead>\n",
       "  <tbody>\n",
       "    <tr>\n",
       "      <th>0</th>\n",
       "      <td>What is the main purpose of the Indian Penal C...</td>\n",
       "      <td>The main purpose of the Indian Penal Code is o...</td>\n",
       "    </tr>\n",
       "    <tr>\n",
       "      <th>1</th>\n",
       "      <td>Can you explain Section 2 regarding the punish...</td>\n",
       "      <td>Section 2 explains that every person shall be ...</td>\n",
       "    </tr>\n",
       "    <tr>\n",
       "      <th>2</th>\n",
       "      <td>What does Section 3 say about punishment for o...</td>\n",
       "      <td>Section 3 states that the provisions of this C...</td>\n",
       "    </tr>\n",
       "    <tr>\n",
       "      <th>3</th>\n",
       "      <td>How does Section 4 deal with extra-territorial...</td>\n",
       "      <td>Section 4 explains that any person liable, by ...</td>\n",
       "    </tr>\n",
       "    <tr>\n",
       "      <th>4</th>\n",
       "      <td>Is there any provision in the Indian Penal Cod...</td>\n",
       "      <td>Yes, Section 5 of Chapter 1 specifies that not...</td>\n",
       "    </tr>\n",
       "  </tbody>\n",
       "</table>\n",
       "</div>"
      ],
      "text/plain": [
       "                                            question  \\\n",
       "0  What is the main purpose of the Indian Penal C...   \n",
       "1  Can you explain Section 2 regarding the punish...   \n",
       "2  What does Section 3 say about punishment for o...   \n",
       "3  How does Section 4 deal with extra-territorial...   \n",
       "4  Is there any provision in the Indian Penal Cod...   \n",
       "\n",
       "                                              answer  \n",
       "0  The main purpose of the Indian Penal Code is o...  \n",
       "1  Section 2 explains that every person shall be ...  \n",
       "2  Section 3 states that the provisions of this C...  \n",
       "3  Section 4 explains that any person liable, by ...  \n",
       "4  Yes, Section 5 of Chapter 1 specifies that not...  "
      ]
     },
     "execution_count": 4,
     "metadata": {},
     "output_type": "execute_result"
    }
   ],
   "source": [
    "# Apply the function to the dataframe\n",
    "df1[['question', 'answer']] = df1['text'].apply(lambda x: pd.Series(split_text(x)))\n",
    "\n",
    "# Dropping the original text column \n",
    "df1.drop(columns=['text'], inplace=True)\n",
    "\n",
    "# Save the processed dataset\n",
    "df1.to_csv('processed_dataset.csv', index=False)\n",
    "\n",
    "df1.head()"
   ]
  },
  {
   "cell_type": "code",
   "execution_count": 5,
   "id": "3a560975",
   "metadata": {
    "execution": {
     "iopub.execute_input": "2025-01-03T04:49:57.922228Z",
     "iopub.status.busy": "2025-01-03T04:49:57.921961Z",
     "iopub.status.idle": "2025-01-03T04:50:00.624757Z",
     "shell.execute_reply": "2025-01-03T04:50:00.624057Z"
    },
    "papermill": {
     "duration": 2.707918,
     "end_time": "2025-01-03T04:50:00.626450",
     "exception": false,
     "start_time": "2025-01-03T04:49:57.918532",
     "status": "completed"
    },
    "tags": []
   },
   "outputs": [],
   "source": [
    "splits = {'train': 'train.csv', 'validation': 'validation.csv', 'test': 'test.csv'}\n",
    "df2 = pd.read_csv(\"hf://datasets/jizzu/llama2_indian_law_v2/\" + splits[\"train\"])"
   ]
  },
  {
   "cell_type": "code",
   "execution_count": 6,
   "id": "1c03108b",
   "metadata": {
    "execution": {
     "iopub.execute_input": "2025-01-03T04:50:00.633597Z",
     "iopub.status.busy": "2025-01-03T04:50:00.633344Z",
     "iopub.status.idle": "2025-01-03T04:50:03.588338Z",
     "shell.execute_reply": "2025-01-03T04:50:03.587616Z"
    },
    "papermill": {
     "duration": 2.959991,
     "end_time": "2025-01-03T04:50:03.589720",
     "exception": false,
     "start_time": "2025-01-03T04:50:00.629729",
     "status": "completed"
    },
    "tags": []
   },
   "outputs": [
    {
     "name": "stdout",
     "output_type": "stream",
     "text": [
      "                                                text  \\\n",
      "0  ###Human:\\nWhat is the difference between a pe...   \n",
      "1  ###Human:\\nWhen should a writ petition be file...   \n",
      "2  ###Human:\\nWhat is the procedure for filing a ...   \n",
      "3  ###Human:\\nWhat are the common reliefs sought ...   \n",
      "4  ###Human:\\nCan a plaint be amended after it ha...   \n",
      "\n",
      "                                            question  \\\n",
      "0  What is the difference between a petition and ...   \n",
      "1     When should a writ petition be filed in India?   \n",
      "2  What is the procedure for filing a plaint in a...   \n",
      "3  What are the common reliefs sought through a p...   \n",
      "4  Can a plaint be amended after it has been file...   \n",
      "\n",
      "                                              answer  \n",
      "0  A petition is a formal request submitted to a ...  \n",
      "1  A writ petition in India should be filed when ...  \n",
      "2  To file a plaint in a civil case in Indiayou m...  \n",
      "3  Public interest litigation (PIL) petitions in ...  \n",
      "4  Yesa plaint can be amended in a civil case in ...  \n",
      "text        0\n",
      "question    0\n",
      "answer      0\n",
      "dtype: int64\n"
     ]
    }
   ],
   "source": [
    "def split_question_answer(row):\n",
    "    if \"###Human:\" in row and \"###Assistant:\" in row:\n",
    "        question = row.split(\"###Human:\")[1].split(\"###Assistant:\")[0].strip()\n",
    "        answer = row.split(\"###Assistant:\")[1].strip()\n",
    "        return question, answer\n",
    "    return None, None\n",
    "\n",
    "df2[['question', 'answer']] = df2['text'].apply(split_question_answer).apply(pd.Series)\n",
    "\n",
    "print(df2.head())\n",
    "print(df2.isnull().sum())\n",
    "\n",
    "df2.to_csv(\"corrected_df2.csv\", index=False)"
   ]
  },
  {
   "cell_type": "code",
   "execution_count": 7,
   "id": "027a6cbd",
   "metadata": {
    "execution": {
     "iopub.execute_input": "2025-01-03T04:50:03.596863Z",
     "iopub.status.busy": "2025-01-03T04:50:03.596631Z",
     "iopub.status.idle": "2025-01-03T04:50:03.604222Z",
     "shell.execute_reply": "2025-01-03T04:50:03.603437Z"
    },
    "papermill": {
     "duration": 0.012369,
     "end_time": "2025-01-03T04:50:03.605528",
     "exception": false,
     "start_time": "2025-01-03T04:50:03.593159",
     "status": "completed"
    },
    "tags": []
   },
   "outputs": [
    {
     "data": {
      "text/html": [
       "<div>\n",
       "<style scoped>\n",
       "    .dataframe tbody tr th:only-of-type {\n",
       "        vertical-align: middle;\n",
       "    }\n",
       "\n",
       "    .dataframe tbody tr th {\n",
       "        vertical-align: top;\n",
       "    }\n",
       "\n",
       "    .dataframe thead th {\n",
       "        text-align: right;\n",
       "    }\n",
       "</style>\n",
       "<table border=\"1\" class=\"dataframe\">\n",
       "  <thead>\n",
       "    <tr style=\"text-align: right;\">\n",
       "      <th></th>\n",
       "      <th>text</th>\n",
       "      <th>question</th>\n",
       "      <th>answer</th>\n",
       "    </tr>\n",
       "  </thead>\n",
       "  <tbody>\n",
       "    <tr>\n",
       "      <th>0</th>\n",
       "      <td>###Human:\\nWhat is the difference between a pe...</td>\n",
       "      <td>What is the difference between a petition and ...</td>\n",
       "      <td>A petition is a formal request submitted to a ...</td>\n",
       "    </tr>\n",
       "    <tr>\n",
       "      <th>1</th>\n",
       "      <td>###Human:\\nWhen should a writ petition be file...</td>\n",
       "      <td>When should a writ petition be filed in India?</td>\n",
       "      <td>A writ petition in India should be filed when ...</td>\n",
       "    </tr>\n",
       "    <tr>\n",
       "      <th>2</th>\n",
       "      <td>###Human:\\nWhat is the procedure for filing a ...</td>\n",
       "      <td>What is the procedure for filing a plaint in a...</td>\n",
       "      <td>To file a plaint in a civil case in Indiayou m...</td>\n",
       "    </tr>\n",
       "    <tr>\n",
       "      <th>3</th>\n",
       "      <td>###Human:\\nWhat are the common reliefs sought ...</td>\n",
       "      <td>What are the common reliefs sought through a p...</td>\n",
       "      <td>Public interest litigation (PIL) petitions in ...</td>\n",
       "    </tr>\n",
       "    <tr>\n",
       "      <th>4</th>\n",
       "      <td>###Human:\\nCan a plaint be amended after it ha...</td>\n",
       "      <td>Can a plaint be amended after it has been file...</td>\n",
       "      <td>Yesa plaint can be amended in a civil case in ...</td>\n",
       "    </tr>\n",
       "  </tbody>\n",
       "</table>\n",
       "</div>"
      ],
      "text/plain": [
       "                                                text  \\\n",
       "0  ###Human:\\nWhat is the difference between a pe...   \n",
       "1  ###Human:\\nWhen should a writ petition be file...   \n",
       "2  ###Human:\\nWhat is the procedure for filing a ...   \n",
       "3  ###Human:\\nWhat are the common reliefs sought ...   \n",
       "4  ###Human:\\nCan a plaint be amended after it ha...   \n",
       "\n",
       "                                            question  \\\n",
       "0  What is the difference between a petition and ...   \n",
       "1     When should a writ petition be filed in India?   \n",
       "2  What is the procedure for filing a plaint in a...   \n",
       "3  What are the common reliefs sought through a p...   \n",
       "4  Can a plaint be amended after it has been file...   \n",
       "\n",
       "                                              answer  \n",
       "0  A petition is a formal request submitted to a ...  \n",
       "1  A writ petition in India should be filed when ...  \n",
       "2  To file a plaint in a civil case in Indiayou m...  \n",
       "3  Public interest litigation (PIL) petitions in ...  \n",
       "4  Yesa plaint can be amended in a civil case in ...  "
      ]
     },
     "execution_count": 7,
     "metadata": {},
     "output_type": "execute_result"
    }
   ],
   "source": [
    "df2.head()"
   ]
  },
  {
   "cell_type": "code",
   "execution_count": 8,
   "id": "a477a9b9",
   "metadata": {
    "execution": {
     "iopub.execute_input": "2025-01-03T04:50:03.612596Z",
     "iopub.status.busy": "2025-01-03T04:50:03.612374Z",
     "iopub.status.idle": "2025-01-03T04:50:06.309959Z",
     "shell.execute_reply": "2025-01-03T04:50:06.309207Z"
    },
    "papermill": {
     "duration": 2.702864,
     "end_time": "2025-01-03T04:50:06.311650",
     "exception": false,
     "start_time": "2025-01-03T04:50:03.608786",
     "status": "completed"
    },
    "tags": []
   },
   "outputs": [],
   "source": [
    "df3 = pd.read_csv(\"hf://datasets/kshitij230/Indian-Law/Indian-Law.csv\")"
   ]
  },
  {
   "cell_type": "code",
   "execution_count": 9,
   "id": "af058f15",
   "metadata": {
    "execution": {
     "iopub.execute_input": "2025-01-03T04:50:06.319365Z",
     "iopub.status.busy": "2025-01-03T04:50:06.319101Z",
     "iopub.status.idle": "2025-01-03T04:50:06.617677Z",
     "shell.execute_reply": "2025-01-03T04:50:06.616795Z"
    },
    "papermill": {
     "duration": 0.303922,
     "end_time": "2025-01-03T04:50:06.619222",
     "exception": false,
     "start_time": "2025-01-03T04:50:06.315300",
     "status": "completed"
    },
    "tags": []
   },
   "outputs": [
    {
     "data": {
      "text/html": [
       "<div>\n",
       "<style scoped>\n",
       "    .dataframe tbody tr th:only-of-type {\n",
       "        vertical-align: middle;\n",
       "    }\n",
       "\n",
       "    .dataframe tbody tr th {\n",
       "        vertical-align: top;\n",
       "    }\n",
       "\n",
       "    .dataframe thead th {\n",
       "        text-align: right;\n",
       "    }\n",
       "</style>\n",
       "<table border=\"1\" class=\"dataframe\">\n",
       "  <thead>\n",
       "    <tr style=\"text-align: right;\">\n",
       "      <th></th>\n",
       "      <th>question</th>\n",
       "      <th>answer</th>\n",
       "    </tr>\n",
       "  </thead>\n",
       "  <tbody>\n",
       "    <tr>\n",
       "      <th>0</th>\n",
       "      <td>What is the difference between a petition and ...</td>\n",
       "      <td>A petition is a formal request submitted to a ...</td>\n",
       "    </tr>\n",
       "    <tr>\n",
       "      <th>1</th>\n",
       "      <td>When should a writ petition be filed in India?</td>\n",
       "      <td>A writ petition in India should be filed when ...</td>\n",
       "    </tr>\n",
       "    <tr>\n",
       "      <th>2</th>\n",
       "      <td>What is the procedure for filing a plaint in a...</td>\n",
       "      <td>To file a plaint in a civil case in Indiayou m...</td>\n",
       "    </tr>\n",
       "    <tr>\n",
       "      <th>3</th>\n",
       "      <td>What are the common reliefs sought through a p...</td>\n",
       "      <td>Public interest litigation (PIL) petitions in ...</td>\n",
       "    </tr>\n",
       "    <tr>\n",
       "      <th>4</th>\n",
       "      <td>Can a plaint be amended after it has been file...</td>\n",
       "      <td>Yesa plaint can be amended in a civil case in ...</td>\n",
       "    </tr>\n",
       "  </tbody>\n",
       "</table>\n",
       "</div>"
      ],
      "text/plain": [
       "                                            question  \\\n",
       "0  What is the difference between a petition and ...   \n",
       "1     When should a writ petition be filed in India?   \n",
       "2  What is the procedure for filing a plaint in a...   \n",
       "3  What are the common reliefs sought through a p...   \n",
       "4  Can a plaint be amended after it has been file...   \n",
       "\n",
       "                                              answer  \n",
       "0  A petition is a formal request submitted to a ...  \n",
       "1  A writ petition in India should be filed when ...  \n",
       "2  To file a plaint in a civil case in Indiayou m...  \n",
       "3  Public interest litigation (PIL) petitions in ...  \n",
       "4  Yesa plaint can be amended in a civil case in ...  "
      ]
     },
     "execution_count": 9,
     "metadata": {},
     "output_type": "execute_result"
    }
   ],
   "source": [
    "df3.rename(columns={'Instruction': 'question', 'Response': 'answer'}, inplace=True)\n",
    "df3.to_csv('renamed_instruction_response_dataset.csv', index=False)\n",
    "\n",
    "df3.head()"
   ]
  },
  {
   "cell_type": "code",
   "execution_count": 10,
   "id": "60b874eb",
   "metadata": {
    "execution": {
     "iopub.execute_input": "2025-01-03T04:50:06.627040Z",
     "iopub.status.busy": "2025-01-03T04:50:06.626732Z",
     "iopub.status.idle": "2025-01-03T04:50:07.648873Z",
     "shell.execute_reply": "2025-01-03T04:50:07.647935Z"
    },
    "papermill": {
     "duration": 1.027817,
     "end_time": "2025-01-03T04:50:07.650566",
     "exception": false,
     "start_time": "2025-01-03T04:50:06.622749",
     "status": "completed"
    },
    "tags": []
   },
   "outputs": [],
   "source": [
    "from sklearn.model_selection import train_test_split \n",
    "\n",
    "merged_df = pd.concat([df1, df2, df3], ignore_index=True)"
   ]
  },
  {
   "cell_type": "code",
   "execution_count": 11,
   "id": "7714f45c",
   "metadata": {
    "execution": {
     "iopub.execute_input": "2025-01-03T04:50:07.658661Z",
     "iopub.status.busy": "2025-01-03T04:50:07.658279Z",
     "iopub.status.idle": "2025-01-03T04:50:07.661743Z",
     "shell.execute_reply": "2025-01-03T04:50:07.661101Z"
    },
    "papermill": {
     "duration": 0.008664,
     "end_time": "2025-01-03T04:50:07.662999",
     "exception": false,
     "start_time": "2025-01-03T04:50:07.654335",
     "status": "completed"
    },
    "tags": []
   },
   "outputs": [],
   "source": [
    "total_rows = len(merged_df)"
   ]
  },
  {
   "cell_type": "code",
   "execution_count": 12,
   "id": "6de14d1a",
   "metadata": {
    "execution": {
     "iopub.execute_input": "2025-01-03T04:50:07.670262Z",
     "iopub.status.busy": "2025-01-03T04:50:07.669988Z",
     "iopub.status.idle": "2025-01-03T04:50:07.695791Z",
     "shell.execute_reply": "2025-01-03T04:50:07.695079Z"
    },
    "papermill": {
     "duration": 0.031138,
     "end_time": "2025-01-03T04:50:07.697475",
     "exception": false,
     "start_time": "2025-01-03T04:50:07.666337",
     "status": "completed"
    },
    "tags": []
   },
   "outputs": [],
   "source": [
    "train_test_df, validation_df = train_test_split(merged_df, test_size=500, random_state=42)\n",
    "train_df, test_df = train_test_split(train_test_df, test_size=100, random_state=42)"
   ]
  },
  {
   "cell_type": "code",
   "execution_count": 13,
   "id": "08ac50e4",
   "metadata": {
    "execution": {
     "iopub.execute_input": "2025-01-03T04:50:07.705407Z",
     "iopub.status.busy": "2025-01-03T04:50:07.705123Z",
     "iopub.status.idle": "2025-01-03T04:50:07.710090Z",
     "shell.execute_reply": "2025-01-03T04:50:07.709264Z"
    },
    "papermill": {
     "duration": 0.010039,
     "end_time": "2025-01-03T04:50:07.711339",
     "exception": false,
     "start_time": "2025-01-03T04:50:07.701300",
     "status": "completed"
    },
    "tags": []
   },
   "outputs": [],
   "source": [
    "train_df['split'] = 'train'\n",
    "validation_df['split'] = 'validation'\n",
    "test_df['split'] = 'test'"
   ]
  },
  {
   "cell_type": "code",
   "execution_count": 14,
   "id": "ea34f1e6",
   "metadata": {
    "execution": {
     "iopub.execute_input": "2025-01-03T04:50:07.718512Z",
     "iopub.status.busy": "2025-01-03T04:50:07.718263Z",
     "iopub.status.idle": "2025-01-03T04:50:08.788038Z",
     "shell.execute_reply": "2025-01-03T04:50:08.787117Z"
    },
    "papermill": {
     "duration": 1.075129,
     "end_time": "2025-01-03T04:50:08.789694",
     "exception": false,
     "start_time": "2025-01-03T04:50:07.714565",
     "status": "completed"
    },
    "tags": []
   },
   "outputs": [
    {
     "data": {
      "text/plain": [
       "'Indian_legal_merged.csv'"
      ]
     },
     "execution_count": 14,
     "metadata": {},
     "output_type": "execute_result"
    }
   ],
   "source": [
    "final_df = pd.concat([train_df, validation_df, test_df], ignore_index=True)\n",
    "\n",
    "# Save the final dataset\n",
    "file_path = 'Indian_legal_merged.csv'\n",
    "final_df.to_csv(file_path, index=False)\n",
    "\n",
    "file_path"
   ]
  }
 ],
 "metadata": {
  "kaggle": {
   "accelerator": "gpu",
   "dataSources": [],
   "dockerImageVersionId": 30823,
   "isGpuEnabled": true,
   "isInternetEnabled": true,
   "language": "python",
   "sourceType": "notebook"
  },
  "kernelspec": {
   "display_name": "Python 3",
   "language": "python",
   "name": "python3"
  },
  "language_info": {
   "codemirror_mode": {
    "name": "ipython",
    "version": 3
   },
   "file_extension": ".py",
   "mimetype": "text/x-python",
   "name": "python",
   "nbconvert_exporter": "python",
   "pygments_lexer": "ipython3",
   "version": "3.10.12"
  },
  "papermill": {
   "default_parameters": {},
   "duration": 18.766562,
   "end_time": "2025-01-03T04:50:09.514523",
   "environment_variables": {},
   "exception": null,
   "input_path": "__notebook__.ipynb",
   "output_path": "__notebook__.ipynb",
   "parameters": {},
   "start_time": "2025-01-03T04:49:50.747961",
   "version": "2.6.0"
  }
 },
 "nbformat": 4,
 "nbformat_minor": 5
}
